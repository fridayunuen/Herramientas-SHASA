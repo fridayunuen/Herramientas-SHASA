{
 "cells": [
  {
   "cell_type": "code",
   "execution_count": 1,
   "metadata": {},
   "outputs": [],
   "source": [
    "import os\n",
    "import pandas as pd\n",
    "drive = r\"C:\\Users\\fcolin\\SERVICIOS SHASA S DE RL DE CV\\Fotos Shasa - Fotografía\""
   ]
  },
  {
   "cell_type": "code",
   "execution_count": 2,
   "metadata": {},
   "outputs": [],
   "source": [
    "archivos = os.listdir(drive)"
   ]
  },
  {
   "cell_type": "code",
   "execution_count": 3,
   "metadata": {},
   "outputs": [],
   "source": [
    "def extract_numbers(string):\n",
    "    '''this function returns a list of numbers of one or more digits contained in a string\n",
    "    '''\n",
    "    numbers = []\n",
    "    number = ''\n",
    "    char_ant_isdigit = False\n",
    "    for char in string:\n",
    "        if char.isdigit() and char_ant_isdigit:\n",
    "            number += char\n",
    "        elif char.isdigit() and not char_ant_isdigit:\n",
    "            number = char\n",
    "        elif not char.isdigit() and char_ant_isdigit:\n",
    "            numbers.append(number)\n",
    "            number = ''\n",
    "        char_ant_isdigit = char.isdigit()\n",
    "    return numbers\n",
    "\n",
    "def extract_item_number(string):\n",
    "    '''this function returns the item number from a string\n",
    "    the item number is a number contained in the string of lenght 10 or 13'''\n",
    "    item_number = '0'\n",
    "    for value in extract_numbers(string):\n",
    "        if len(value) in [7, 10, 13]:\n",
    "            item_number = value\n",
    "    return item_number  "
   ]
  },
  {
   "cell_type": "code",
   "execution_count": 4,
   "metadata": {},
   "outputs": [],
   "source": [
    "item= []\n",
    "for archivo in archivos:   \n",
    "    item.append(extract_item_number(archivo)) "
   ]
  },
  {
   "cell_type": "code",
   "execution_count": 6,
   "metadata": {},
   "outputs": [
    {
     "name": "stdout",
     "output_type": "stream",
     "text": [
      "29550\n"
     ]
    },
    {
     "data": {
      "text/plain": [
       "104"
      ]
     },
     "execution_count": 6,
     "metadata": {},
     "output_type": "execute_result"
    }
   ],
   "source": [
    "item = pd.unique(item)\n",
    "# get hour of the system\n",
    "\n",
    "print(len(item))\n",
    "29550-29446 "
   ]
  },
  {
   "cell_type": "code",
   "execution_count": null,
   "metadata": {},
   "outputs": [],
   "source": []
  },
  {
   "cell_type": "code",
   "execution_count": 20,
   "metadata": {},
   "outputs": [
    {
     "data": {
      "text/plain": [
       "[]"
      ]
     },
     "execution_count": 20,
     "metadata": {},
     "output_type": "execute_result"
    }
   ],
   "source": [
    "\n",
    "error = \"ECOMM\"\n",
    "j = 0\n",
    "# detect if error is in archivos[0]\n",
    "\n",
    "ERRORES= []\n",
    "for archivo in archivos:\n",
    "    e = archivo.find(error)\n",
    "    if e != -1:\n",
    "        ERRORES.append(archivo)\n",
    "        j += 1\n",
    "        print(archivo)\n",
    "ERRORES\n",
    "\n"
   ]
  },
  {
   "cell_type": "code",
   "execution_count": 21,
   "metadata": {},
   "outputs": [
    {
     "data": {
      "text/plain": [
       "0"
      ]
     },
     "execution_count": 21,
     "metadata": {},
     "output_type": "execute_result"
    }
   ],
   "source": [
    "len(ERRORES)"
   ]
  },
  {
   "cell_type": "code",
   "execution_count": 22,
   "metadata": {},
   "outputs": [],
   "source": [
    "item_errores= []\n",
    "for foto in ERRORES:   \n",
    "    item_errores.append(extract_item_number(foto)) "
   ]
  },
  {
   "cell_type": "code",
   "execution_count": 23,
   "metadata": {},
   "outputs": [
    {
     "data": {
      "text/plain": [
       "0"
      ]
     },
     "execution_count": 23,
     "metadata": {},
     "output_type": "execute_result"
    }
   ],
   "source": [
    "item_errores = pd.unique(item_errores)\n",
    "len(item_errores)"
   ]
  },
  {
   "cell_type": "code",
   "execution_count": 24,
   "metadata": {},
   "outputs": [],
   "source": [
    "os.chdir(drive)\n",
    "# DELETE ERRORS\n",
    "for error in ERRORES:\n",
    "    os.remove(error)"
   ]
  },
  {
   "cell_type": "code",
   "execution_count": 25,
   "metadata": {},
   "outputs": [],
   "source": [
    "guardar = r\"C:\\Users\\fcolin\\Documents\\GitHub\\Herramientas\\Listado-Items\"\n",
    "os.chdir(guardar)\n",
    "pd.DataFrame(item).to_excel(\"item.xlsx\")"
   ]
  }
 ],
 "metadata": {
  "kernelspec": {
   "display_name": "Python 3.9.12 ('base')",
   "language": "python",
   "name": "python3"
  },
  "language_info": {
   "codemirror_mode": {
    "name": "ipython",
    "version": 3
   },
   "file_extension": ".py",
   "mimetype": "text/x-python",
   "name": "python",
   "nbconvert_exporter": "python",
   "pygments_lexer": "ipython3",
   "version": "3.9.12"
  },
  "orig_nbformat": 4,
  "vscode": {
   "interpreter": {
    "hash": "54d8efc0accedf8a71318180958b2a2c3ace073b5a0267b0b56f49dfe74d51c0"
   }
  }
 },
 "nbformat": 4,
 "nbformat_minor": 2
}
